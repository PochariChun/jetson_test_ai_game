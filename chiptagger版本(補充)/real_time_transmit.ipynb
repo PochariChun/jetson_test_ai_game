{
 "cells": [
  {
   "cell_type": "markdown",
   "metadata": {},
   "source": [
    "### 讀取所有ontology words  還有一些stop words"
   ]
  },
  {
   "cell_type": "code",
   "execution_count": 2,
   "metadata": {},
   "outputs": [
    {
     "name": "stdout",
     "output_type": "stream",
     "text": [
      "coding_syntax：95 \n",
      "learning_environment：38 \n",
      "project_assignment：73\n",
      "取得要新增的字詞一共:203\n",
      "stopwords讀取完成一共998筆\n"
     ]
    }
   ],
   "source": [
    "import csv\n",
    "coding_syntax = []\n",
    "learning_environment = []\n",
    "project_assignment = []\n",
    "all_words_for_ckiptagger = []\n",
    "\n",
    "\n",
    "first_row = False\n",
    "with open('ontology_words.csv','r',encoding=\"utf-8-sig\") as f:\n",
    "    reader = csv.reader(f)\n",
    "    for row in reader:\n",
    "        if(first_row):\n",
    "            if(row[0] != ''):\n",
    "                coding_syntax.append(row[0])\n",
    "            if(row[1] != ''):\n",
    "                learning_environment.append(row[1])\n",
    "            if(row[2] != ''):\n",
    "                project_assignment.append(row[2])\n",
    "        if(first_row == False):\n",
    "            first_row = True\n",
    "\n",
    "print('coding_syntax：' + str(len(coding_syntax)) ,\n",
    "      '\\nlearning_environment：' + str(len(learning_environment)) , \n",
    "      '\\nproject_assignment：' + str(len(project_assignment)))\n",
    "\n",
    "### 新增ontology所有的字詞 給ckiptagger 防止切詞把他切斷\n",
    "all_words_for_ckiptagger.extend(coding_syntax)\n",
    "all_words_for_ckiptagger.extend(learning_environment)\n",
    "all_words_for_ckiptagger.extend(project_assignment)\n",
    "new_dict = {x: 100 for x in all_words_for_ckiptagger}\n",
    "print('取得要新增的字詞一共:' + str(len(new_dict)))\n",
    "\n",
    "### 讀stop words 感謝林濤♥\n",
    "stopwords = []\n",
    "file = open('stop_word.txt', encoding='utf-8-sig').readlines()   \n",
    "for lines in file:\n",
    "    stopwords.append(lines.strip())\n",
    "print('stopwords讀取完成一共'+ str(len(stopwords)) + '筆')"
   ]
  },
  {
   "cell_type": "markdown",
   "metadata": {},
   "source": [
    "### 文字分詞\n",
    "\n",
    "`pip install ckiptagger`"
   ]
  },
  {
   "cell_type": "code",
   "execution_count": 41,
   "metadata": {},
   "outputs": [],
   "source": [
    "from ckiptagger import construct_dictionary\n",
    "from ckiptagger import WS\n",
    "\n",
    "def cut_words(sentence, dict1):\n",
    "    print(sentence)\n",
    "    ws = WS('./data/')\n",
    "    #s = '請問這個程式碼要怎麼編譯'\n",
    "    input_string = [sentence.lower()]\n",
    "    reg_dict = construct_dictionary(dict1)\n",
    "    word_sentence_list = ws(input_string, recommend_dictionary=reg_dict)\n",
    "    return word_sentence_list[0]"
   ]
  },
  {
   "cell_type": "code",
   "execution_count": 30,
   "metadata": {},
   "outputs": [],
   "source": [
    "def calc_classification(word_sentence_list):\n",
    "    ret_cs = []\n",
    "    ret_le = []\n",
    "    ret_pa = []\n",
    "    other = []\n",
    "    for word in word_sentence_list:\n",
    "        if word not in stopwords:\n",
    "            ### eliminate stopsword\n",
    "            if word in coding_syntax:\n",
    "                ret_cs.append(word)\n",
    "            elif word in learning_environment:\n",
    "                ret_le.append(word)\n",
    "            elif word in project_assignment:\n",
    "                ret_pa.append(word)\n",
    "            else:\n",
    "                other.append(word)\n",
    "        \n",
    "    return ret_cs , ret_le , ret_pa , other"
   ]
  },
  {
   "cell_type": "code",
   "execution_count": 31,
   "metadata": {},
   "outputs": [],
   "source": [
    "###get current to seconds\n",
    "from datetime import datetime\n",
    "\n",
    "def get_currenttime_to_second():\n",
    "    reg = datetime.now()\n",
    "    reg = reg.strftime(\"%H:%M:%S\")\n",
    "    reg = reg.split(':')\n",
    "    current_time_second = int(reg[0])*3600 + int(reg[1])*60 + int(reg[2])*1\n",
    "    return current_time_second"
   ]
  },
  {
   "cell_type": "code",
   "execution_count": 32,
   "metadata": {},
   "outputs": [],
   "source": [
    "import requests\n",
    "\n",
    "def send_to_server(group, time, said, ontology):\n",
    "    url = 'http://140.116.39.76:8000/member_info2/'\n",
    "\n",
    "    myobj = {'who': group, 'said':said, 'time':time, 'ontology':ontology}\n",
    "\n",
    "    headers = {'content-type': 'application/json'}\n",
    "    x = requests.post(url, json = myobj , headers=headers)\n",
    "\n",
    "    return x.text"
   ]
  },
  {
   "cell_type": "markdown",
   "metadata": {},
   "source": [
    "### 即時翻譯一段文字"
   ]
  },
  {
   "cell_type": "code",
   "execution_count": 7,
   "metadata": {},
   "outputs": [
    {
     "name": "stdout",
     "output_type": "stream",
     "text": [
      "請開始說話\n",
      "開始翻譯.....\n",
      "原句： 釜山\n",
      " 經過ontology後 [] [] [] ['釜山']\n",
      "id：2 time：67420\n",
      "server接收：OK\n",
      "請開始說話\n",
      "開始翻譯.....\n",
      "原句： Focus sex\n",
      " 經過ontology後 [] [] [] ['focus sex']\n",
      "id：2 time：67431\n",
      "server接收：OK\n",
      "請開始說話\n",
      "開始翻譯.....\n",
      "原句： 他說這個就變速馬達\n",
      " 經過ontology後 [] [] [] ['變速', '馬達']\n",
      "id：2 time：67448\n",
      "server接收：OK\n",
      "請開始說話\n",
      "開始翻譯.....\n",
      "原句： My First before assignment\n",
      " 經過ontology後 [] [] [] ['my first before assignment']\n",
      "id：2 time：67461\n",
      "server接收：OK\n",
      "請開始說話\n",
      "開始翻譯.....\n",
      "Error!\n",
      "請開始說話\n",
      "開始翻譯.....\n",
      "原句： K所以說啊有了有了有了\n",
      " 經過ontology後 [] [] [] ['k']\n",
      "id：2 time：67481\n",
      "server接收：OK\n",
      "請開始說話\n",
      "開始翻譯.....\n",
      "原句： 退出退出退出退出退出退出退出退出\n",
      " 經過ontology後 [] [] [] ['退出', '退出', '退出', '退出', '退出', '退出', '退出', '退出']\n",
      "id：2 time：67489\n",
      "server接收：OK\n"
     ]
    }
   ],
   "source": [
    "import speech_recognition as sr\n",
    "from IPython.display import clear_output  ##用來清理一下output\n",
    "clear_counter = 0\n",
    "group_id = 2  # 1~4\n",
    "\n",
    "\n",
    "r = sr.Recognizer()\n",
    "\n",
    "while True:\n",
    "    try:\n",
    "        with sr.Microphone() as source:\n",
    "            print('請開始說話')\n",
    "            r.adjust_for_ambient_noise(source)\n",
    "            audio = r.listen(source, phrase_time_limit=3)\n",
    "            print('開始翻譯.....')\n",
    "            text = r.recognize_google(audio, language='zh-TW') #Speech to text google recognizer\n",
    "            cs, le, pa, ot = calc_classification(cut_words(text, new_dict))\n",
    "            print('原句： ' +text +'\\n 經過ontology後', cs, le, pa, ot)\n",
    "            current_time = get_currenttime_to_second()\n",
    "            print('id：' + str(group_id) , 'time：' + str(current_time))\n",
    "            \n",
    "            ## post 給server\n",
    "            server_response = send_to_server(group_id, current_time, text, [cs, le, pa, ot])\n",
    "            print('server接收：' + server_response)\n",
    "            #print(text) #This is what you actually said\n",
    "            \n",
    "            ### 如果印出10筆了  就clear一下  這樣比較好審視\n",
    "            clear_counter += 1\n",
    "            if(clear_counter == 10):\n",
    "                clear_counter = 0\n",
    "                clear_output()\n",
    "            \n",
    "            \n",
    "            \n",
    "            if('退出' in text):\n",
    "                break\n",
    "    except:\n",
    "        print('Error!')\n",
    "        clear_counter += 1\n",
    "        if(clear_counter == 10):\n",
    "            clear_counter = 0\n",
    "            clear_output()"
   ]
  },
  {
   "cell_type": "code",
   "execution_count": 47,
   "metadata": {},
   "outputs": [
    {
     "name": "stdout",
     "output_type": "stream",
     "text": [
      "I am handsome\n",
      "[] [] [] ['i am handsome']\n",
      "server接收：OK\n"
     ]
    }
   ],
   "source": [
    "group_id = 2\n",
    "current_time = get_currenttime_to_second()\n",
    "text = 'I am handsome'\n",
    "cs, le, pa, ot = calc_classification(cut_words(text, new_dict))\n",
    "\n",
    "server_response = send_to_server(group_id, current_time, text, [cs, le, pa, ot])\n",
    "print(cs, le, pa, ot)\n",
    "print('server接收：' + server_response)"
   ]
  },
  {
   "cell_type": "code",
   "execution_count": null,
   "metadata": {},
   "outputs": [],
   "source": []
  }
 ],
 "metadata": {
  "kernelspec": {
   "display_name": "Python 3 (ipykernel)",
   "language": "python",
   "name": "python3"
  },
  "language_info": {
   "codemirror_mode": {
    "name": "ipython",
    "version": 3
   },
   "file_extension": ".py",
   "mimetype": "text/x-python",
   "name": "python",
   "nbconvert_exporter": "python",
   "pygments_lexer": "ipython3",
   "version": "3.9.12"
  }
 },
 "nbformat": 4,
 "nbformat_minor": 4
}
